{
 "cells": [
  {
   "cell_type": "markdown",
   "id": "44fc9d72",
   "metadata": {},
   "source": [
    "### $f(x) = cos(x)$ en los nodos $p_k = \\frac{k}{5} (k = 0,1,...,5)$\n",
    "\n",
    "(a) Calcula $P(x)$ y represéntalo gráficamente junto con $f(x)$ en el intervalo $[0, 1]$ \n",
    "\n",
    "(b) Calcula una cota superior teórica para el error $|f(x) − P(x)|$ en el intervalo $[0, 1]$\n",
    "\n",
    "(c) Representa gráficamente la “función error” $|f(x) − P(x)|$ en el intervalo $[0, 1]$, comprobando\n",
    "    que es menor que la cota obtenida en el apartado (a)"
   ]
  },
  {
   "cell_type": "code",
   "execution_count": 1,
   "id": "9516b21c",
   "metadata": {},
   "outputs": [
    {
     "data": {
      "text/html": [
       "<html><script type=\"math/tex; mode=display\">\\newcommand{\\Bold}[1]{\\mathbf{#1}}x \\ {\\mapsto}\\ \\cos\\left(x\\right)</script></html>"
      ],
      "text/latex": [
       "$$\\newcommand{\\Bold}[1]{\\mathbf{#1}}x \\ {\\mapsto}\\ \\cos\\left(x\\right)$$"
      ],
      "text/plain": [
       "x |--> cos(x)"
      ]
     },
     "metadata": {},
     "output_type": "display_data"
    }
   ],
   "source": [
    "f(x) = cos(x)\n",
    "show(f)"
   ]
  },
  {
   "cell_type": "markdown",
   "id": "81e769d0",
   "metadata": {},
   "source": [
    "los nodos $p_k = \\frac{k}{5} (k = 0,1,...,5)$ se definen de la siguiente forma"
   ]
  },
  {
   "cell_type": "code",
   "execution_count": 3,
   "id": "d227f08d",
   "metadata": {},
   "outputs": [
    {
     "data": {
      "text/html": [
       "<html><script type=\"math/tex; mode=display\">\\newcommand{\\Bold}[1]{\\mathbf{#1}}\\left[0, \\frac{1}{5}, \\frac{2}{5}, \\frac{3}{5}, \\frac{4}{5}, 1\\right]</script></html>"
      ],
      "text/latex": [
       "$$\\newcommand{\\Bold}[1]{\\mathbf{#1}}\\left[0, \\frac{1}{5}, \\frac{2}{5}, \\frac{3}{5}, \\frac{4}{5}, 1\\right]$$"
      ],
      "text/plain": [
       "[0, 1/5, 2/5, 3/5, 4/5, 1]"
      ]
     },
     "metadata": {},
     "output_type": "display_data"
    }
   ],
   "source": [
    "X = [k/5 for k in [0..5]]\n",
    "show(X)"
   ]
  },
  {
   "cell_type": "markdown",
   "id": "4a79f1eb",
   "metadata": {},
   "source": [
    "la malla XY son los puntos $(p_0,f(p_0)),(p_1,f(p_1)),...,(p_5,f(p_5))$"
   ]
  },
  {
   "cell_type": "code",
   "execution_count": 4,
   "id": "f87712be",
   "metadata": {},
   "outputs": [
    {
     "data": {
      "text/html": [
       "<html><script type=\"math/tex; mode=display\">\\newcommand{\\Bold}[1]{\\mathbf{#1}}\\left[\\left(0, 1\\right), \\left(\\frac{1}{5}, \\cos\\left(\\frac{1}{5}\\right)\\right), \\left(\\frac{2}{5}, \\cos\\left(\\frac{2}{5}\\right)\\right), \\left(\\frac{3}{5}, \\cos\\left(\\frac{3}{5}\\right)\\right), \\left(\\frac{4}{5}, \\cos\\left(\\frac{4}{5}\\right)\\right), \\left(1, \\cos\\left(1\\right)\\right)\\right]</script></html>"
      ],
      "text/latex": [
       "$$\\newcommand{\\Bold}[1]{\\mathbf{#1}}\\left[\\left(0, 1\\right), \\left(\\frac{1}{5}, \\cos\\left(\\frac{1}{5}\\right)\\right), \\left(\\frac{2}{5}, \\cos\\left(\\frac{2}{5}\\right)\\right), \\left(\\frac{3}{5}, \\cos\\left(\\frac{3}{5}\\right)\\right), \\left(\\frac{4}{5}, \\cos\\left(\\frac{4}{5}\\right)\\right), \\left(1, \\cos\\left(1\\right)\\right)\\right]$$"
      ],
      "text/plain": [
       "[(0, 1),\n",
       " (1/5, cos(1/5)),\n",
       " (2/5, cos(2/5)),\n",
       " (3/5, cos(3/5)),\n",
       " (4/5, cos(4/5)),\n",
       " (1, cos(1))]"
      ]
     },
     "metadata": {},
     "output_type": "display_data"
    }
   ],
   "source": [
    "XY = [(X[k], f(X[k])) for k in [0..5]]\n",
    "show(XY)"
   ]
  },
  {
   "cell_type": "markdown",
   "id": "35e3f51f",
   "metadata": {},
   "source": [
    "obtener el  polinomio interpoladro de Lagrange"
   ]
  },
  {
   "cell_type": "code",
   "execution_count": 6,
   "id": "9a100c44",
   "metadata": {},
   "outputs": [
    {
     "data": {
      "text/html": [
       "<html><script type=\"math/tex; mode=display\">\\newcommand{\\Bold}[1]{\\mathbf{#1}}x \\ {\\mapsto}\\ -0.00396204670695720 \\, x^{5} + 0.0460465507263182 \\, x^{4} - 0.00228618031571069 \\, x^{3} - 0.499447901404085 \\, x^{2} - 0.0000481164314259097 \\, x + 1.00000000000000</script></html>"
      ],
      "text/latex": [
       "$$\\newcommand{\\Bold}[1]{\\mathbf{#1}}x \\ {\\mapsto}\\ -0.00396204670695720 \\, x^{5} + 0.0460465507263182 \\, x^{4} - 0.00228618031571069 \\, x^{3} - 0.499447901404085 \\, x^{2} - 0.0000481164314259097 \\, x + 1.00000000000000$$"
      ],
      "text/plain": [
       "x |--> -0.00396204670695720*x^5 + 0.0460465507263182*x^4 - 0.00228618031571069*x^3 - 0.499447901404085*x^2 - 0.0000481164314259097*x + 1.00000000000000"
      ]
     },
     "metadata": {},
     "output_type": "display_data"
    }
   ],
   "source": [
    "P(x) = RR['x'].lagrange_polynomial(XY)\n",
    "show(P)"
   ]
  },
  {
   "cell_type": "markdown",
   "id": "099efa12",
   "metadata": {},
   "source": [
    "representar la funcion $f(x) = cos(x)$ junto con el  polinomio de Lagrange y la malla de nodos XY"
   ]
  },
  {
   "cell_type": "code",
   "execution_count": 11,
   "id": "affe4027",
   "metadata": {},
   "outputs": [
    {
     "data": {
      "image/png": "[encoded data removed]",
      "text/plain": [
       "Graphics object consisting of 3 graphics primitives"
      ]
     },
     "execution_count": 11,
     "metadata": {},
     "output_type": "execute_result"
    }
   ],
   "source": [
    "plot(f, -2, 2, color = 'pink')+plot(P, 0, 1, color = 'cyan')+point2d(XY, size = 50, color = 'black')"
   ]
  },
  {
   "cell_type": "code",
   "execution_count": null,
   "id": "3273fae1",
   "metadata": {},
   "outputs": [],
   "source": []
  }
 ],
 "metadata": {
  "kernelspec": {
   "display_name": "SageMath 9.5",
   "language": "sage",
   "name": "sagemath"
  },
  "language_info": {
   "codemirror_mode": {
    "name": "ipython",
    "version": 3
   },
   "file_extension": ".py",
   "mimetype": "text/x-python",
   "name": "python",
   "nbconvert_exporter": "python",
   "pygments_lexer": "ipython3",
   "version": "3.10.12"
  }
 },
 "nbformat": 4,
 "nbformat_minor": 5
}
